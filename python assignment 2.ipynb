{
 "cells": [
  {
   "cell_type": "markdown",
   "metadata": {},
   "source": [
    "Create the below pattern using nested for loop in Python.\n",
    "\n",
    "\n",
    "#*\n",
    "#* *\n",
    "#* * *\n",
    "#* * * *\n",
    "#* * * * *\n",
    "#* * * *\n",
    "#* * *\n",
    "#* *\n",
    "#*\n"
   ]
  },
  {
   "cell_type": "code",
   "execution_count": 9,
   "metadata": {},
   "outputs": [
    {
     "name": "stdout",
     "output_type": "stream",
     "text": [
      "\n",
      "* \n",
      "* * \n",
      "* * * \n",
      "* * * * \n",
      "* * * * * \n",
      "* * * * \n",
      "* * * \n",
      "* * \n",
      "* \n"
     ]
    }
   ],
   "source": [
    "def draw_star(n):\n",
    "    for i in range(n):\n",
    "        print(\"* \"*i)\n",
    "    for i in range(n,0,-1):\n",
    "        print(\"* \"*i)\n",
    "\n",
    "draw_star(5)"
   ]
  },
  {
   "cell_type": "markdown",
   "metadata": {},
   "source": [
    "Write a Python program to reverse a word after accepting the input from the user.\n",
    "Sample Output:\n",
    "\n",
    "Input word: iNeuron\n",
    "\n",
    "Output: norueNi"
   ]
  },
  {
   "cell_type": "code",
   "execution_count": 6,
   "metadata": {},
   "outputs": [
    {
     "name": "stdout",
     "output_type": "stream",
     "text": [
      "input a str: shashi\n",
      "output: ihsahs\n"
     ]
    }
   ],
   "source": [
    "def rev(name):\n",
    "    print(f\"output: {name[::-1]}\")\n",
    "\n",
    "name = input(\"input a str: \")\n",
    "rev(name)\n"
   ]
  },
  {
   "cell_type": "code",
   "execution_count": 8,
   "metadata": {},
   "outputs": [
    {
     "name": "stdout",
     "output_type": "stream",
     "text": [
      "output: norueNi\n"
     ]
    }
   ],
   "source": [
    "name=\"iNeuron\"\n",
    "rev(name)\n",
    "\n"
   ]
  },
  {
   "cell_type": "code",
   "execution_count": null,
   "metadata": {},
   "outputs": [],
   "source": []
  }
 ],
 "metadata": {
  "kernelspec": {
   "display_name": "Python 3",
   "language": "python",
   "name": "python3"
  },
  "language_info": {
   "codemirror_mode": {
    "name": "ipython",
    "version": 3
   },
   "file_extension": ".py",
   "mimetype": "text/x-python",
   "name": "python",
   "nbconvert_exporter": "python",
   "pygments_lexer": "ipython3",
   "version": "3.8.3"
  }
 },
 "nbformat": 4,
 "nbformat_minor": 4
}
